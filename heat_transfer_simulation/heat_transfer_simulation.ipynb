{
 "cells": [
  {
   "cell_type": "markdown",
   "metadata": {},
   "source": [
    "# Heat Transfer Simulation\n",
    "\n",
    "Disclaimer: this might be very inaccurate since it differs from experiments done. Or maybe I am wrong from the fundamentals."
   ]
  },
  {
   "cell_type": "code",
   "execution_count": 1,
   "metadata": {},
   "outputs": [],
   "source": [
    "import math\n",
    "import matplotlib.pyplot as plt"
   ]
  },
  {
   "cell_type": "markdown",
   "metadata": {},
   "source": [
    "[Rate of heat](http://hyperphysics.phy-astr.gsu.edu/hbase/thermo/heatra.html#c1)\n",
    "$$P = \\frac{kA(T_{hot} - T_{cold})}{d}$$\n",
    "where $k$ is the thermal conductivity, $A$ is the surface area of transfer, $d$ is the thickness of the object, and $T$ is the temperatures. Later on, by converting this power into joules, heat change should be equal to the energy given by the rate of heat. The conversion is done using the specific heat formula.\n",
    "\n",
    "[Specific heat](https://www.physicsclassroom.com/class/thermalP/Lesson-2/Measuring-the-Quantity-of-Heat)\n",
    "$$Q = mc\\Delta T$$\n",
    "where $Q$ is the energy given, $m$ is the mass of the object, $c$ is the specific heat capacity, and $\\Delta T$ is the change of temperature."
   ]
  },
  {
   "cell_type": "code",
   "execution_count": 8,
   "metadata": {},
   "outputs": [],
   "source": [
    "def equilibrium_t(m1, c1, t1, m2, c2, t2):\n",
    "    mc1 = m1 * c1\n",
    "    mc2 = m2 * c2\n",
    "    mct1 = mc1 * t1\n",
    "    mct2 = mc2 * t2\n",
    "    return (mct1 + mct2)/(mc1 + mc2)\n",
    "\n",
    "def rate_of_heat(k, a, t, te, d):\n",
    "    kat = k * a * (t-te)\n",
    "    return kat/d"
   ]
  },
  {
   "cell_type": "markdown",
   "metadata": {},
   "source": [
    "## Example parameters "
   ]
  },
  {
   "cell_type": "code",
   "execution_count": 9,
   "metadata": {},
   "outputs": [],
   "source": [
    "coin_mass = 35.8 * 1e-3 # kg\n",
    "water_mass = 100 * 1e-3 # kg\n",
    "\n",
    "obj_c = 913.76 # joule per (kg kelvin)\n",
    "obj_k = 237 \n",
    "\n",
    "water_c = 4200 # joule per (kg kelvin)\n",
    "\n",
    "coin_h = 2.47 * 1e-3 # m\n",
    "coin_d = 27 * 1e-3 # m\n",
    "\n",
    "water_t = 25.3125 # celcius\n",
    "obj_t = 61.9125 # celcius\n",
    "\n",
    "surface_area = ((math.pi * (coin_d/2)**2) + (coin_h * 10 * coin_d * math.pi))"
   ]
  },
  {
   "cell_type": "markdown",
   "metadata": {},
   "source": [
    "## Main simulation"
   ]
  },
  {
   "cell_type": "code",
   "execution_count": 17,
   "metadata": {},
   "outputs": [
    {
     "name": "stdout",
     "output_type": "stream",
     "text": [
      "27.956648439757387\n"
     ]
    },
    {
     "data": {
      "image/png": "[encoded data removed]",
      "text/plain": [
       "<Figure size 432x288 with 1 Axes>"
      ]
     },
     "metadata": {
      "needs_background": "light"
     },
     "output_type": "display_data"
    }
   ],
   "source": [
    "water_ts = [water_t]\n",
    "obj_ts = [obj_t]\n",
    "time = [0]\n",
    "\n",
    "update_rate = 0.02 # seconds\n",
    "simulation_time = 10 # seconds\n",
    "\n",
    "for i in range(int(simulation_time/update_rate)):\n",
    "    time.append(time[-1] + update_rate)\n",
    "    \n",
    "    teq = equilibrium_t(water_mass, water_c, water_ts[-1], coin_mass, obj_c, obj_ts[-1])\n",
    "    heat = rate_of_heat(obj_k, surface_area, obj_ts[-1], water_ts[-1], coin_h * 10) * update_rate\n",
    "    \n",
    "    water_ts.append(water_ts[-1] + (heat/(water_c * water_mass)))\n",
    "    obj_ts.append(obj_ts[-1] - (heat/(obj_c * coin_mass)))\n",
    "\n",
    "plt.plot(time, water_ts, label=\"Water Temperature\")\n",
    "plt.plot(time, obj_ts, label=\"Object Temperature\")\n",
    "plt.xlabel('Time (s)')\n",
    "plt.ylabel('Temperature ($^\\circ$C)')\n",
    "plt.legend()\n",
    "plt.show()"
   ]
  },
  {
   "cell_type": "code",
   "execution_count": null,
   "metadata": {},
   "outputs": [],
   "source": []
  }
 ],
 "metadata": {
  "kernelspec": {
   "display_name": "Python 3",
   "language": "python",
   "name": "python3"
  },
  "language_info": {
   "codemirror_mode": {
    "name": "ipython",
    "version": 3
   },
   "file_extension": ".py",
   "mimetype": "text/x-python",
   "name": "python",
   "nbconvert_exporter": "python",
   "pygments_lexer": "ipython3",
   "version": "3.8.5"
  }
 },
 "nbformat": 4,
 "nbformat_minor": 4
}
